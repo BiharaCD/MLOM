{
  "nbformat": 4,
  "nbformat_minor": 0,
  "metadata": {
    "colab": {
      "provenance": [],
      "authorship_tag": "ABX9TyM010ILmuZBFWti1oIjhFN7",
      "include_colab_link": true
    },
    "kernelspec": {
      "name": "python3",
      "display_name": "Python 3"
    },
    "language_info": {
      "name": "python"
    }
  },
  "cells": [
    {
      "cell_type": "markdown",
      "metadata": {
        "id": "view-in-github",
        "colab_type": "text"
      },
      "source": [
        "<a href=\"https://colab.research.google.com/github/BiharaCD/MLOM/blob/main/FDM_Mini_assignment.ipynb\" target=\"_parent\"><img src=\"https://colab.research.google.com/assets/colab-badge.svg\" alt=\"Open In Colab\"/></a>"
      ]
    },
    {
      "cell_type": "code",
      "execution_count": 1,
      "metadata": {
        "colab": {
          "base_uri": "https://localhost:8080/"
        },
        "id": "KnPqTasfxQKN",
        "outputId": "4e88d745-0694-4f09-a8d1-33e857a3c4c9"
      },
      "outputs": [
        {
          "output_type": "stream",
          "name": "stdout",
          "text": [
            "   CustomerID   Age    Income      Gender  SpendingScore  Purchased\n",
            "0           1  56.0   28392.0           M             38          1\n",
            "1           2  46.0   50535.0           M             51          1\n",
            "2           3  32.0   98603.0           M             54          1\n",
            "3           4  25.0   72256.0  Non-binary              8          0\n",
            "4           5  38.0  109135.0           F             27          1\n",
            "5           6  56.0   55222.0           F             27          1\n",
            "6           7  36.0   97373.0           M             98          1\n",
            "7           8  40.0   99575.0           F             21          0\n",
            "8           9  28.0  116354.0           F             30          1\n",
            "9          10  28.0  104651.0  Non-binary             97          0\n"
          ]
        }
      ],
      "source": [
        "import pandas as pd\n",
        "import numpy as np\n",
        "\n",
        "\n",
        "# Reproducibility\n",
        "np.random.seed(42)\n",
        "\n",
        "\n",
        "# Create dataset\n",
        "data = {\n",
        "\"CustomerID\": range(1, 101),\n",
        "\"Age\": np.random.randint(18, 60, size=100),\n",
        "\"Income\": np.random.randint(20000, 120000, size=100).astype(float),\n",
        "\"Gender\": np.random.choice([\"M\", \"F\", \"Non-binary\"], size=100),\n",
        "\"SpendingScore\": np.random.randint(1, 100, size=100),\n",
        "\"Purchased\": np.random.choice([0, 1], size=100) # 0 = No, 1 = Yes\n",
        "}\n",
        "\n",
        "\n",
        "df = pd.DataFrame(data)\n",
        "\n",
        "\n",
        "# Introduce missing values\n",
        "df.loc[np.random.choice(df.index, 8, replace=False), \"Income\"] = np.nan\n",
        "df.loc[np.random.choice(df.index, 6, replace=False), \"Age\"] = np.nan\n",
        "\n",
        "\n",
        "# Introduce noisy/outlier values\n",
        "df.loc[np.random.choice(df.index, 3, replace=False), \"Income\"] = -5000 # invalid income\n",
        "\n",
        "\n",
        "print(df.head(10))"
      ]
    },
    {
      "cell_type": "code",
      "source": [
        "# Fill missing Age with mean\n",
        "df[\"Age\"].fillna(df[\"Age\"].mean(), inplace=True)\n",
        "\n",
        "\n",
        "# Fill missing Income with median\n",
        "df[\"Income\"].fillna(df[\"Income\"].median(), inplace=True)\n",
        "\n",
        "\n",
        "# Replace invalid (negative) Income values with median\n",
        "df.loc[df[\"Income\"] < 0, \"Income\"] = df[\"Income\"].median()\n",
        "\n",
        "\n",
        "print(df.head(10))"
      ],
      "metadata": {
        "colab": {
          "base_uri": "https://localhost:8080/"
        },
        "id": "R0xLkxi3yC9C",
        "outputId": "0feed493-9bdb-4bc3-d83c-88300ed75cb8"
      },
      "execution_count": 2,
      "outputs": [
        {
          "output_type": "stream",
          "name": "stdout",
          "text": [
            "   CustomerID   Age    Income      Gender  SpendingScore  Purchased\n",
            "0           1  56.0   28392.0           M             38          1\n",
            "1           2  46.0   50535.0           M             51          1\n",
            "2           3  32.0   98603.0           M             54          1\n",
            "3           4  25.0   72256.0  Non-binary              8          0\n",
            "4           5  38.0  109135.0           F             27          1\n",
            "5           6  56.0   55222.0           F             27          1\n",
            "6           7  36.0   97373.0           M             98          1\n",
            "7           8  40.0   99575.0           F             21          0\n",
            "8           9  28.0  116354.0           F             30          1\n",
            "9          10  28.0  104651.0  Non-binary             97          0\n"
          ]
        },
        {
          "output_type": "stream",
          "name": "stderr",
          "text": [
            "/tmp/ipython-input-406183532.py:2: FutureWarning: A value is trying to be set on a copy of a DataFrame or Series through chained assignment using an inplace method.\n",
            "The behavior will change in pandas 3.0. This inplace method will never work because the intermediate object on which we are setting values always behaves as a copy.\n",
            "\n",
            "For example, when doing 'df[col].method(value, inplace=True)', try using 'df.method({col: value}, inplace=True)' or df[col] = df[col].method(value) instead, to perform the operation inplace on the original object.\n",
            "\n",
            "\n",
            "  df[\"Age\"].fillna(df[\"Age\"].mean(), inplace=True)\n",
            "/tmp/ipython-input-406183532.py:6: FutureWarning: A value is trying to be set on a copy of a DataFrame or Series through chained assignment using an inplace method.\n",
            "The behavior will change in pandas 3.0. This inplace method will never work because the intermediate object on which we are setting values always behaves as a copy.\n",
            "\n",
            "For example, when doing 'df[col].method(value, inplace=True)', try using 'df.method({col: value}, inplace=True)' or df[col] = df[col].method(value) instead, to perform the operation inplace on the original object.\n",
            "\n",
            "\n",
            "  df[\"Income\"].fillna(df[\"Income\"].median(), inplace=True)\n"
          ]
        }
      ]
    },
    {
      "cell_type": "code",
      "source": [
        "from sklearn.preprocessing import MinMaxScaler, StandardScaler\n",
        "\n",
        "\n",
        "# Min-Max Normalization\n",
        "df[\"Income_norm\"] = MinMaxScaler().fit_transform(df[[\"Income\"]])\n",
        "\n",
        "\n",
        "# Z-score Standardization\n",
        "df[\"Age_zscore\"] = StandardScaler().fit_transform(df[[\"Age\"]])\n",
        "\n",
        "\n",
        "# Discretization of Age\n",
        "df[\"Age_group\"] = pd.cut(df[\"Age\"], bins=[17, 30, 45, 60], labels=[\"Youth\", \"Adult\", \"Senior\"])\n",
        "\n",
        "\n",
        "# Encoding categorical variable\n",
        "df = pd.get_dummies(df, columns=[\"Gender\"], drop_first=True)"
      ],
      "metadata": {
        "id": "AWonRlRcypBt"
      },
      "execution_count": 3,
      "outputs": []
    },
    {
      "cell_type": "code",
      "source": [
        "# Drop irrelevant column\n",
        "df_reduced = df.drop(columns=[\"CustomerID\"])\n",
        "\n",
        "\n",
        "# PCA Example\n",
        "from sklearn.decomposition import PCA\n",
        "\n",
        "\n",
        "features = [\"Age\", \"Income\", \"SpendingScore\"]\n",
        "pca = PCA(n_components=2)\n",
        "df_pca = pca.fit_transform(df[features])\n",
        "df[[\"PCA1\", \"PCA2\"]] = df_pca\n",
        "\n",
        "print (df.head(10))"
      ],
      "metadata": {
        "colab": {
          "base_uri": "https://localhost:8080/"
        },
        "id": "wnBSd5Gxy8JW",
        "outputId": "e1c2ace5-c674-4afd-8b15-7b8061eb6047"
      },
      "execution_count": 5,
      "outputs": [
        {
          "output_type": "stream",
          "name": "stdout",
          "text": [
            "   CustomerID   Age    Income  SpendingScore  Purchased  Income_norm  \\\n",
            "0           1  56.0   28392.0             38          1     0.083022   \n",
            "1           2  46.0   50535.0             51          1     0.307596   \n",
            "2           3  32.0   98603.0             54          1     0.795101   \n",
            "3           4  25.0   72256.0              8          0     0.527890   \n",
            "4           5  38.0  109135.0             27          1     0.901917   \n",
            "5           6  56.0   55222.0             27          1     0.355132   \n",
            "6           7  36.0   97373.0             98          1     0.782627   \n",
            "7           8  40.0   99575.0             21          0     0.804959   \n",
            "8           9  28.0  116354.0             30          1     0.975132   \n",
            "9          10  28.0  104651.0             97          0     0.856440   \n",
            "\n",
            "   Age_zscore Age_group  Gender_M  Gender_Non-binary          PCA1       PCA2  \n",
            "0    1.505572    Senior      True              False -47659.541919  -9.346769  \n",
            "1    0.656599    Senior      True              False -25516.540396   2.379086  \n",
            "2   -0.531963     Adult      True              False  22551.460615   2.405340  \n",
            "3   -1.126243     Youth     False               True  -3795.541850 -41.532125  \n",
            "4   -0.022579     Adult     False              False  33083.458274 -25.491518  \n",
            "5    1.505572    Senior     False              False -20829.542804 -22.222470  \n",
            "6   -0.192374     Adult      True              False  21321.463311  46.360861  \n",
            "7    0.147215     Adult     False              False  23523.457764 -30.875750  \n",
            "8   -0.871552     Youth     False              False  40302.459193 -22.715875  \n",
            "9   -0.871552     Youth     False               True  28599.463808  45.077426  \n"
          ]
        }
      ]
    },
    {
      "cell_type": "code",
      "source": [
        "region_data = pd.DataFrame({\n",
        "\"CustomerID\": range(1, 101),\n",
        "\"Region\": np.random.choice([\"North\", \"South\", \"East\", \"West\"], size=100)\n",
        "})\n",
        "\n",
        "\n",
        "# Merge datasets\n",
        "df = df.merge(region_data, on=\"CustomerID\")\n",
        "\n",
        "\n",
        "print(df.head())"
      ],
      "metadata": {
        "colab": {
          "base_uri": "https://localhost:8080/"
        },
        "id": "UNHbslKPzkbp",
        "outputId": "85d86062-4c00-43dc-c528-17a8e152b33d"
      },
      "execution_count": 6,
      "outputs": [
        {
          "output_type": "stream",
          "name": "stdout",
          "text": [
            "   CustomerID   Age    Income  SpendingScore  Purchased  Income_norm  \\\n",
            "0           1  56.0   28392.0             38          1     0.083022   \n",
            "1           2  46.0   50535.0             51          1     0.307596   \n",
            "2           3  32.0   98603.0             54          1     0.795101   \n",
            "3           4  25.0   72256.0              8          0     0.527890   \n",
            "4           5  38.0  109135.0             27          1     0.901917   \n",
            "\n",
            "   Age_zscore Age_group  Gender_M  Gender_Non-binary          PCA1       PCA2  \\\n",
            "0    1.505572    Senior      True              False -47659.541919  -9.346769   \n",
            "1    0.656599    Senior      True              False -25516.540396   2.379086   \n",
            "2   -0.531963     Adult      True              False  22551.460615   2.405340   \n",
            "3   -1.126243     Youth     False               True  -3795.541850 -41.532125   \n",
            "4   -0.022579     Adult     False              False  33083.458274 -25.491518   \n",
            "\n",
            "  Region  \n",
            "0  South  \n",
            "1   East  \n",
            "2   East  \n",
            "3  South  \n",
            "4   West  \n"
          ]
        }
      ]
    }
  ]
}